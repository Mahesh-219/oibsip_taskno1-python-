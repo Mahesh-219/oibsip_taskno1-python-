{
  "nbformat": 4,
  "nbformat_minor": 0,
  "metadata": {
    "colab": {
      "private_outputs": true,
      "provenance": [],
      "authorship_tag": "ABX9TyPacAljs/NTO46UdyNBNVgP",
      "include_colab_link": true
    },
    "kernelspec": {
      "name": "python3",
      "display_name": "Python 3"
    },
    "language_info": {
      "name": "python"
    }
  },
  "cells": [
    {
      "cell_type": "markdown",
      "metadata": {
        "id": "view-in-github",
        "colab_type": "text"
      },
      "source": [
        "<a href=\"https://colab.research.google.com/github/Mahesh-219/oibsip_taskno1-python-/blob/main/Random_password_generator.ipynb\" target=\"_parent\"><img src=\"https://colab.research.google.com/assets/colab-badge.svg\" alt=\"Open In Colab\"/></a>"
      ]
    },
    {
      "cell_type": "code",
      "execution_count": null,
      "metadata": {
        "id": "X9xGu9bZtXEN"
      },
      "outputs": [],
      "source": [
        "import random\n",
        "import string"
      ]
    },
    {
      "cell_type": "code",
      "source": [
        "def generate_password(length, use_letters=True, use_digits=True, use_symbols=True):\n",
        "    characters = ''\n",
        "    if use_letters:\n",
        "        characters += string.ascii_letters\n",
        "    if use_digits:\n",
        "        characters += string.digits\n",
        "    if use_symbols:\n",
        "        characters += string.punctuation\n",
        "\n",
        "    if not (use_letters or use_digits or use_symbols):\n",
        "        raise ValueError(\"At least one option (letters, digits, symbols) must be True.\")\n",
        "\n",
        "    password = ''.join(random.choice(characters) for _ in range(length))\n",
        "    return password"
      ],
      "metadata": {
        "id": "sgyK109OtiWv"
      },
      "execution_count": null,
      "outputs": []
    },
    {
      "cell_type": "code",
      "source": [
        "def main():\n",
        "    print(\"Welcome to the Command-Line Password Generator!\")\n",
        "\n",
        "    try:\n",
        "        length = int(input(\"Enter the length of the password: \"))\n",
        "        if length <= 0:\n",
        "            raise ValueError(\"Password length must be greater than zero.\")\n",
        "\n",
        "        use_letters = input(\"Include letters (yes/no)? \").strip().lower() in ['yes', 'y']\n",
        "        use_digits = input(\"Include digits (yes/no)? \").strip().lower() in ['yes', 'y']\n",
        "        use_symbols = input(\"Include symbols (yes/no)? \").strip().lower() in ['yes', 'y']\n",
        "\n",
        "        password = generate_password(length, use_letters, use_digits, use_symbols)\n",
        "\n",
        "        print(\"\\nGenerated Password:\", password)\n",
        "\n",
        "    except ValueError as e:\n",
        "        print(\"Error:\", e)\n",
        "        print(\"Please enter valid inputs.\")\n",
        "\n",
        "if __name__ == \"__main__\":\n",
        "    main()\n"
      ],
      "metadata": {
        "id": "R_adcX3VtoPR"
      },
      "execution_count": null,
      "outputs": []
    }
  ]
}